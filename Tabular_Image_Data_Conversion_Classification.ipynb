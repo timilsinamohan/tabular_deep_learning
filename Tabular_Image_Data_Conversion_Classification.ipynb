{
 "cells": [
  {
   "cell_type": "code",
   "execution_count": 1,
   "metadata": {},
   "outputs": [
    {
     "name": "stderr",
     "output_type": "stream",
     "text": [
      "2022-10-07 12:16:24.016741: I tensorflow/stream_executor/platform/default/dso_loader.cc:48] Successfully opened dynamic library libcudart.so.10.1\n"
     ]
    }
   ],
   "source": [
    "from sklearn.datasets import load_breast_cancer\n",
    "from sklearn.model_selection import train_test_split\n",
    "from tab2img.converter import Tab2Img\n",
    "from PIL import Image\n",
    "import os\n",
    "import matplotlib.pylab as plt\n",
    "import tensorflow as tf\n",
    "import tensorflow_hub as hub\n",
    "from tensorflow import keras\n",
    "from tensorflow.keras import layers\n",
    "from tensorflow.keras.models import Sequential\n",
    "import cv2\n",
    "import numpy as np\n",
    "import pathlib\n",
    "from sklearn.linear_model import LogisticRegression\n",
    "from sklearn.metrics import accuracy_score\n",
    "from sklearn.metrics import confusion_matrix,ConfusionMatrixDisplay\n",
    "import matplotlib.pyplot as plt\n",
    "from sklearn.metrics import precision_score,recall_score"
   ]
  },
  {
   "cell_type": "code",
   "execution_count": 2,
   "metadata": {},
   "outputs": [],
   "source": [
    "def data_create():\n",
    "    data = load_breast_cancer()\n",
    "    X = data.data\n",
    "    y = data.target\n",
    "    return X,y\n",
    "\n",
    "def image_conversion(X,y):\n",
    "    model = Tab2Img()\n",
    "    images = model.fit_transform(X, y)\n",
    "    return images, model"
   ]
  },
  {
   "cell_type": "code",
   "execution_count": 3,
   "metadata": {},
   "outputs": [
    {
     "name": "stderr",
     "output_type": "stream",
     "text": [
      "2022-10-07 12:16:24.940156: I tensorflow/stream_executor/platform/default/dso_loader.cc:48] Successfully opened dynamic library libcuda.so.1\n",
      "2022-10-07 12:16:26.604640: I tensorflow/core/common_runtime/gpu/gpu_device.cc:1716] Found device 0 with properties: \n",
      "pciBusID: 0000:17:00.0 name: GeForce RTX 2080 Ti computeCapability: 7.5\n",
      "coreClock: 1.545GHz coreCount: 68 deviceMemorySize: 10.76GiB deviceMemoryBandwidth: 573.69GiB/s\n",
      "2022-10-07 12:16:26.605179: I tensorflow/core/common_runtime/gpu/gpu_device.cc:1716] Found device 1 with properties: \n",
      "pciBusID: 0000:65:00.0 name: GeForce RTX 2080 Ti computeCapability: 7.5\n",
      "coreClock: 1.545GHz coreCount: 68 deviceMemorySize: 10.76GiB deviceMemoryBandwidth: 573.69GiB/s\n",
      "2022-10-07 12:16:26.605660: I tensorflow/core/common_runtime/gpu/gpu_device.cc:1716] Found device 2 with properties: \n",
      "pciBusID: 0000:0a:00.0 name: TITAN Xp COLLECTORS EDITION computeCapability: 6.1\n",
      "coreClock: 1.582GHz coreCount: 30 deviceMemorySize: 11.91GiB deviceMemoryBandwidth: 510.07GiB/s\n",
      "2022-10-07 12:16:26.605685: I tensorflow/stream_executor/platform/default/dso_loader.cc:48] Successfully opened dynamic library libcudart.so.10.1\n",
      "2022-10-07 12:16:26.606974: I tensorflow/stream_executor/platform/default/dso_loader.cc:48] Successfully opened dynamic library libcublas.so.10\n",
      "2022-10-07 12:16:26.608246: I tensorflow/stream_executor/platform/default/dso_loader.cc:48] Successfully opened dynamic library libcufft.so.10\n",
      "2022-10-07 12:16:26.608500: I tensorflow/stream_executor/platform/default/dso_loader.cc:48] Successfully opened dynamic library libcurand.so.10\n",
      "2022-10-07 12:16:26.609657: I tensorflow/stream_executor/platform/default/dso_loader.cc:48] Successfully opened dynamic library libcusolver.so.10\n",
      "2022-10-07 12:16:26.610352: I tensorflow/stream_executor/platform/default/dso_loader.cc:48] Successfully opened dynamic library libcusparse.so.10\n",
      "2022-10-07 12:16:26.612865: I tensorflow/stream_executor/platform/default/dso_loader.cc:48] Successfully opened dynamic library libcudnn.so.7\n",
      "2022-10-07 12:16:26.615770: I tensorflow/core/common_runtime/gpu/gpu_device.cc:1858] Adding visible gpu devices: 0, 1, 2\n",
      "2022-10-07 12:16:26.616241: I tensorflow/core/platform/cpu_feature_guard.cc:142] This TensorFlow binary is optimized with oneAPI Deep Neural Network Library (oneDNN)to use the following CPU instructions in performance-critical operations:  AVX2 AVX512F FMA\n",
      "To enable them in other operations, rebuild TensorFlow with the appropriate compiler flags.\n",
      "2022-10-07 12:16:26.638830: I tensorflow/core/platform/profile_utils/cpu_utils.cc:104] CPU Frequency: 3600000000 Hz\n",
      "2022-10-07 12:16:26.639905: I tensorflow/compiler/xla/service/service.cc:168] XLA service 0x56383cc627f0 initialized for platform Host (this does not guarantee that XLA will be used). Devices:\n",
      "2022-10-07 12:16:26.639921: I tensorflow/compiler/xla/service/service.cc:176]   StreamExecutor device (0): Host, Default Version\n",
      "2022-10-07 12:16:26.905279: I tensorflow/compiler/xla/service/service.cc:168] XLA service 0x56383ebf1320 initialized for platform CUDA (this does not guarantee that XLA will be used). Devices:\n",
      "2022-10-07 12:16:26.905294: I tensorflow/compiler/xla/service/service.cc:176]   StreamExecutor device (0): GeForce RTX 2080 Ti, Compute Capability 7.5\n",
      "2022-10-07 12:16:26.905298: I tensorflow/compiler/xla/service/service.cc:176]   StreamExecutor device (1): GeForce RTX 2080 Ti, Compute Capability 7.5\n",
      "2022-10-07 12:16:26.905301: I tensorflow/compiler/xla/service/service.cc:176]   StreamExecutor device (2): TITAN Xp COLLECTORS EDITION, Compute Capability 6.1\n",
      "2022-10-07 12:16:26.906098: I tensorflow/core/common_runtime/gpu/gpu_device.cc:1716] Found device 0 with properties: \n",
      "pciBusID: 0000:17:00.0 name: GeForce RTX 2080 Ti computeCapability: 7.5\n",
      "coreClock: 1.545GHz coreCount: 68 deviceMemorySize: 10.76GiB deviceMemoryBandwidth: 573.69GiB/s\n",
      "2022-10-07 12:16:26.906620: I tensorflow/core/common_runtime/gpu/gpu_device.cc:1716] Found device 1 with properties: \n",
      "pciBusID: 0000:65:00.0 name: GeForce RTX 2080 Ti computeCapability: 7.5\n",
      "coreClock: 1.545GHz coreCount: 68 deviceMemorySize: 10.76GiB deviceMemoryBandwidth: 573.69GiB/s\n",
      "2022-10-07 12:16:26.907151: I tensorflow/core/common_runtime/gpu/gpu_device.cc:1716] Found device 2 with properties: \n",
      "pciBusID: 0000:0a:00.0 name: TITAN Xp COLLECTORS EDITION computeCapability: 6.1\n",
      "coreClock: 1.582GHz coreCount: 30 deviceMemorySize: 11.91GiB deviceMemoryBandwidth: 510.07GiB/s\n",
      "2022-10-07 12:16:26.907182: I tensorflow/stream_executor/platform/default/dso_loader.cc:48] Successfully opened dynamic library libcudart.so.10.1\n",
      "2022-10-07 12:16:26.907205: I tensorflow/stream_executor/platform/default/dso_loader.cc:48] Successfully opened dynamic library libcublas.so.10\n",
      "2022-10-07 12:16:26.907215: I tensorflow/stream_executor/platform/default/dso_loader.cc:48] Successfully opened dynamic library libcufft.so.10\n",
      "2022-10-07 12:16:26.907225: I tensorflow/stream_executor/platform/default/dso_loader.cc:48] Successfully opened dynamic library libcurand.so.10\n",
      "2022-10-07 12:16:26.907234: I tensorflow/stream_executor/platform/default/dso_loader.cc:48] Successfully opened dynamic library libcusolver.so.10\n",
      "2022-10-07 12:16:26.907243: I tensorflow/stream_executor/platform/default/dso_loader.cc:48] Successfully opened dynamic library libcusparse.so.10\n",
      "2022-10-07 12:16:26.907253: I tensorflow/stream_executor/platform/default/dso_loader.cc:48] Successfully opened dynamic library libcudnn.so.7\n",
      "2022-10-07 12:16:26.910020: I tensorflow/core/common_runtime/gpu/gpu_device.cc:1858] Adding visible gpu devices: 0, 1, 2\n",
      "2022-10-07 12:16:26.910048: I tensorflow/stream_executor/platform/default/dso_loader.cc:48] Successfully opened dynamic library libcudart.so.10.1\n",
      "2022-10-07 12:16:28.339469: I tensorflow/core/common_runtime/gpu/gpu_device.cc:1257] Device interconnect StreamExecutor with strength 1 edge matrix:\n",
      "2022-10-07 12:16:28.339500: I tensorflow/core/common_runtime/gpu/gpu_device.cc:1263]      0 1 2 \n",
      "2022-10-07 12:16:28.339505: I tensorflow/core/common_runtime/gpu/gpu_device.cc:1276] 0:   N N N \n",
      "2022-10-07 12:16:28.339507: I tensorflow/core/common_runtime/gpu/gpu_device.cc:1276] 1:   N N N \n",
      "2022-10-07 12:16:28.339510: I tensorflow/core/common_runtime/gpu/gpu_device.cc:1276] 2:   N N N \n",
      "2022-10-07 12:16:28.341619: I tensorflow/core/common_runtime/gpu/gpu_device.cc:1402] Created TensorFlow device (/job:localhost/replica:0/task:0/device:GPU:0 with 10068 MB memory) -> physical GPU (device: 0, name: GeForce RTX 2080 Ti, pci bus id: 0000:17:00.0, compute capability: 7.5)\n",
      "2022-10-07 12:16:28.342754: I tensorflow/core/common_runtime/gpu/gpu_device.cc:1402] Created TensorFlow device (/job:localhost/replica:0/task:0/device:GPU:1 with 10066 MB memory) -> physical GPU (device: 1, name: GeForce RTX 2080 Ti, pci bus id: 0000:65:00.0, compute capability: 7.5)\n",
      "2022-10-07 12:16:28.343695: I tensorflow/core/common_runtime/gpu/gpu_device.cc:1402] Created TensorFlow device (/job:localhost/replica:0/task:0/device:GPU:2 with 11213 MB memory) -> physical GPU (device: 2, name: TITAN Xp COLLECTORS EDITION, pci bus id: 0000:0a:00.0, compute capability: 6.1)\n"
     ]
    }
   ],
   "source": [
    "IMAGE_SHAPE =(224,224)\n",
    "classifier = tf.keras.Sequential([\n",
    "    hub.KerasLayer(\"http://tfhub.dev/google/tf2-preview/mobilenet_v2/classification/4\",input_shape = IMAGE_SHAPE+(3,))\n",
    "])"
   ]
  },
  {
   "cell_type": "code",
   "execution_count": 4,
   "metadata": {},
   "outputs": [
    {
     "data": {
      "text/plain": [
       "(224, 224, 3)"
      ]
     },
     "execution_count": 4,
     "metadata": {},
     "output_type": "execute_result"
    }
   ],
   "source": [
    "IMAGE_SHAPE+(3,)"
   ]
  },
  {
   "cell_type": "code",
   "execution_count": 5,
   "metadata": {},
   "outputs": [],
   "source": [
    "def baseline_method(X_train, X_test, y_train, y_test):\n",
    "    logisticRegr = LogisticRegression()\n",
    "    logisticRegr.fit(X_train,y_train)\n",
    "    prediction = logisticRegr.predict(X_test)\n",
    "    accuracy = accuracy_score(y_test, prediction)\n",
    "    precision = precision_score(y_test, prediction, average='macro')\n",
    "    recall = recall_score(y_test, prediction, average='macro')\n",
    "    f_score = 2*precision*recall/(precision+recall)\n",
    "    \n",
    "    return accuracy, precision, recall, f_score,prediction\n",
    "    \n",
    "    "
   ]
  },
  {
   "cell_type": "code",
   "execution_count": 6,
   "metadata": {},
   "outputs": [],
   "source": [
    "X,y = data_create()\n",
    "X_train, X_test, y_train, y_test = train_test_split(X,y,test_size=0.25,random_state=0)"
   ]
  },
  {
   "cell_type": "code",
   "execution_count": 7,
   "metadata": {},
   "outputs": [
    {
     "name": "stdout",
     "output_type": "stream",
     "text": [
      "(569, 30)\n",
      "(426, 30)\n",
      "(143, 30)\n"
     ]
    }
   ],
   "source": [
    "print(X.shape)\n",
    "print(X_train.shape)\n",
    "print(X_test.shape)"
   ]
  },
  {
   "cell_type": "code",
   "execution_count": 8,
   "metadata": {},
   "outputs": [],
   "source": [
    "train_images,model = image_conversion(X_train, y_train)\n",
    "test_images = model.transform(X_test)"
   ]
  },
  {
   "cell_type": "code",
   "execution_count": 9,
   "metadata": {},
   "outputs": [
    {
     "name": "stdout",
     "output_type": "stream",
     "text": [
      "(426, 6, 6)\n",
      "(143, 6, 6)\n"
     ]
    }
   ],
   "source": [
    "print(train_images.shape)\n",
    "print(test_images.shape)"
   ]
  },
  {
   "cell_type": "code",
   "execution_count": 10,
   "metadata": {},
   "outputs": [
    {
     "name": "stdout",
     "output_type": "stream",
     "text": [
      "Number of train data is: 426\n",
      "Number of test data is: 143\n"
     ]
    }
   ],
   "source": [
    "# make all the image from the features\n",
    "\n",
    "# classes = [i for i in np.unique(y)]\n",
    "\n",
    "directory_train = \"train_tabular\"\n",
    "directory_test = \"test_tabular\"\n",
    "parent_dir = \"./\"\n",
    "slash = \"/\"\n",
    "\n",
    "cnt = 0\n",
    "for i in range(train_images.shape[0]):\n",
    "    nparray = train_images[i].reshape(train_images.shape[1],train_images.shape[1])\n",
    "    image = Image.fromarray(nparray * 255)\n",
    "    image = image.convert('RGB')\n",
    "    path_train = os.path.join(parent_dir, directory_train,str(y_train[cnt]))\n",
    "    os.makedirs(path_train,exist_ok=True)\n",
    "    image.save(f'{path_train}{slash}{i}.jpg')\n",
    "    cnt+=1\n",
    "print(\"Number of train data is:\",cnt)\n",
    "    \n",
    "cnt = 0\n",
    "for i in range(test_images.shape[0]):\n",
    "    nparray = test_images[i].reshape(train_images.shape[1],train_images.shape[1])\n",
    "    image = Image.fromarray(nparray * 255)\n",
    "    image = image.convert('RGB')\n",
    "    path_test = os.path.join(parent_dir, directory_test,str(y_test[cnt]))\n",
    "    os.makedirs(path_test,exist_ok=True)\n",
    "    image.save(f'{path_test}{slash}{i}.jpg')\n",
    "    cnt+=1\n",
    "print(\"Number of test data is:\",cnt)"
   ]
  },
  {
   "cell_type": "code",
   "execution_count": 11,
   "metadata": {},
   "outputs": [],
   "source": [
    "train_data_dir = pathlib.Path(\"train_tabular/\")\n",
    "test_data_dir = pathlib.Path(\"test_tabular/\")"
   ]
  },
  {
   "cell_type": "code",
   "execution_count": 12,
   "metadata": {},
   "outputs": [
    {
     "data": {
      "text/plain": [
       "PosixPath('train_tabular')"
      ]
     },
     "execution_count": 12,
     "metadata": {},
     "output_type": "execute_result"
    }
   ],
   "source": [
    "train_data_dir"
   ]
  },
  {
   "cell_type": "code",
   "execution_count": 13,
   "metadata": {},
   "outputs": [
    {
     "name": "stdout",
     "output_type": "stream",
     "text": [
      "train_tabular\n",
      "test_tabular\n"
     ]
    }
   ],
   "source": [
    "print(train_data_dir)\n",
    "print(test_data_dir)\n"
   ]
  },
  {
   "cell_type": "code",
   "execution_count": 14,
   "metadata": {},
   "outputs": [],
   "source": [
    "image_count_train = len(list(train_data_dir.glob(\"*/*.jpg\")))\n",
    "image_count_test = len(list(test_data_dir.glob(\"*/*.jpg\")))"
   ]
  },
  {
   "cell_type": "code",
   "execution_count": 15,
   "metadata": {},
   "outputs": [
    {
     "name": "stdout",
     "output_type": "stream",
     "text": [
      "Total train images: 426\n",
      "Total test images: 143\n"
     ]
    }
   ],
   "source": [
    "print(\"Total train images:\",image_count_train)\n",
    "print(\"Total test images:\",image_count_test)"
   ]
  },
  {
   "cell_type": "code",
   "execution_count": 16,
   "metadata": {},
   "outputs": [
    {
     "data": {
      "text/plain": [
       "[PosixPath('train_tabular/0/341.jpg'),\n",
       " PosixPath('train_tabular/0/31.jpg'),\n",
       " PosixPath('train_tabular/0/351.jpg'),\n",
       " PosixPath('train_tabular/0/109.jpg'),\n",
       " PosixPath('train_tabular/0/40.jpg')]"
      ]
     },
     "execution_count": 16,
     "metadata": {},
     "output_type": "execute_result"
    }
   ],
   "source": [
    "imgs = list(train_data_dir.glob(\"0/*.*\"))\n",
    "imgs[:5]"
   ]
  },
  {
   "cell_type": "code",
   "execution_count": 17,
   "metadata": {},
   "outputs": [],
   "source": [
    "train_images_dict = {\n",
    "    'malignant':list(train_data_dir.glob(\"1/*.*\")),\n",
    "    'benign': list(train_data_dir.glob(\"0/*.*\"))\n",
    "}\n",
    "\n",
    "test_images_dict = {\n",
    "    'malignant':list(test_data_dir.glob(\"1/*.*\")),\n",
    "    'benign': list(test_data_dir.glob(\"0/*.*\"))\n",
    "}"
   ]
  },
  {
   "cell_type": "code",
   "execution_count": 18,
   "metadata": {},
   "outputs": [],
   "source": [
    "labels_dict = {\n",
    "    'malignant': 1,\n",
    "    'benign': 0\n",
    "}"
   ]
  },
  {
   "cell_type": "code",
   "execution_count": 19,
   "metadata": {},
   "outputs": [],
   "source": [
    "X_train, y_train=[],[]\n",
    "for cancer_status, images in train_images_dict.items():\n",
    "    for image in images:\n",
    "        img = cv2.imread(str(image))\n",
    "        resized_img = cv2.resize(img,IMAGE_SHAPE)\n",
    "        X_train.append(resized_img)\n",
    "        y_train.append(labels_dict[cancer_status])\n"
   ]
  },
  {
   "cell_type": "code",
   "execution_count": 20,
   "metadata": {},
   "outputs": [],
   "source": [
    "X_test, y_test=[],[]\n",
    "for cancer_status, images in test_images_dict.items():\n",
    "    for image in images:\n",
    "        img = cv2.imread(str(image))\n",
    "        resized_img = cv2.resize(img,IMAGE_SHAPE)\n",
    "        X_test.append(resized_img)\n",
    "        y_test.append(labels_dict[cancer_status])\n"
   ]
  },
  {
   "cell_type": "code",
   "execution_count": 21,
   "metadata": {},
   "outputs": [],
   "source": [
    "X_train = np.array(X_train)\n",
    "y_train = np.array(y_train)\n",
    "X_test = np.array(X_test)\n",
    "y_test = np.array(y_test)"
   ]
  },
  {
   "cell_type": "code",
   "execution_count": 22,
   "metadata": {},
   "outputs": [],
   "source": [
    "X_train_scaled = X_train/255.0\n",
    "X_test_scaled = X_test/255.0"
   ]
  },
  {
   "cell_type": "code",
   "execution_count": 23,
   "metadata": {},
   "outputs": [
    {
     "data": {
      "text/plain": [
       "<matplotlib.image.AxesImage at 0x7f958444bcd0>"
      ]
     },
     "execution_count": 23,
     "metadata": {},
     "output_type": "execute_result"
    },
    {
     "data": {
      "image/png": "[encoded data removed]",
      "text/plain": [
       "<Figure size 640x480 with 1 Axes>"
      ]
     },
     "metadata": {},
     "output_type": "display_data"
    }
   ],
   "source": [
    "plt.axis(\"off\")\n",
    "plt.imshow(X_train[0])"
   ]
  },
  {
   "cell_type": "code",
   "execution_count": 24,
   "metadata": {},
   "outputs": [],
   "source": [
    "feature_extractor_model = \"https://tfhub.dev/google/tf2-preview/mobilenet_v2/feature_vector/4\"\n",
    "pretrained_model_without_top_layer = hub.KerasLayer(\n",
    "feature_extractor_model, input_shape=(224,224,3),trainable = False)"
   ]
  },
  {
   "cell_type": "code",
   "execution_count": 25,
   "metadata": {},
   "outputs": [
    {
     "name": "stdout",
     "output_type": "stream",
     "text": [
      "Model: \"sequential_1\"\n",
      "_________________________________________________________________\n",
      "Layer (type)                 Output Shape              Param #   \n",
      "=================================================================\n",
      "keras_layer_1 (KerasLayer)   (None, 1280)              2257984   \n",
      "_________________________________________________________________\n",
      "dense (Dense)                (None, 2)                 2562      \n",
      "=================================================================\n",
      "Total params: 2,260,546\n",
      "Trainable params: 2,562\n",
      "Non-trainable params: 2,257,984\n",
      "_________________________________________________________________\n"
     ]
    }
   ],
   "source": [
    "num_of_labels = 2\n",
    "model = tf.keras.Sequential([\n",
    "    pretrained_model_without_top_layer,\n",
    "    tf.keras.layers.Dense(num_of_labels,activation=tf.nn.softmax)\n",
    "])\n",
    "model.summary()"
   ]
  },
  {
   "cell_type": "code",
   "execution_count": 26,
   "metadata": {},
   "outputs": [
    {
     "name": "stdout",
     "output_type": "stream",
     "text": [
      "Epoch 1/100\n"
     ]
    },
    {
     "name": "stderr",
     "output_type": "stream",
     "text": [
      "2022-10-07 12:16:33.293920: I tensorflow/stream_executor/platform/default/dso_loader.cc:48] Successfully opened dynamic library libcublas.so.10\n",
      "2022-10-07 12:16:33.535670: I tensorflow/stream_executor/platform/default/dso_loader.cc:48] Successfully opened dynamic library libcudnn.so.7\n"
     ]
    },
    {
     "name": "stdout",
     "output_type": "stream",
     "text": [
      "14/14 [==============================] - 0s 23ms/step - loss: 0.6142 - acc: 0.6995\n",
      "Epoch 2/100\n",
      "14/14 [==============================] - 0s 18ms/step - loss: 0.5691 - acc: 0.7488\n",
      "Epoch 3/100\n",
      "14/14 [==============================] - 0s 19ms/step - loss: 0.5338 - acc: 0.7653\n",
      "Epoch 4/100\n",
      "14/14 [==============================] - 0s 19ms/step - loss: 0.5075 - acc: 0.8333\n",
      "Epoch 5/100\n",
      "14/14 [==============================] - 0s 19ms/step - loss: 0.4907 - acc: 0.8521\n",
      "Epoch 6/100\n",
      "14/14 [==============================] - 0s 19ms/step - loss: 0.4830 - acc: 0.8521\n",
      "Epoch 7/100\n",
      "14/14 [==============================] - 0s 19ms/step - loss: 0.4756 - acc: 0.8568\n",
      "Epoch 8/100\n",
      "14/14 [==============================] - 0s 19ms/step - loss: 0.4724 - acc: 0.8521\n",
      "Epoch 9/100\n",
      "14/14 [==============================] - 0s 19ms/step - loss: 0.4685 - acc: 0.8592\n",
      "Epoch 10/100\n",
      "14/14 [==============================] - 0s 19ms/step - loss: 0.4642 - acc: 0.8662\n",
      "Epoch 11/100\n",
      "14/14 [==============================] - 0s 19ms/step - loss: 0.4640 - acc: 0.8685\n",
      "Epoch 12/100\n",
      "14/14 [==============================] - 0s 18ms/step - loss: 0.4544 - acc: 0.8709\n",
      "Epoch 13/100\n",
      "14/14 [==============================] - 0s 19ms/step - loss: 0.4515 - acc: 0.8709\n",
      "Epoch 14/100\n",
      "14/14 [==============================] - 0s 19ms/step - loss: 0.4487 - acc: 0.8779\n",
      "Epoch 15/100\n",
      "14/14 [==============================] - 0s 18ms/step - loss: 0.4464 - acc: 0.8779\n",
      "Epoch 16/100\n",
      "14/14 [==============================] - 0s 19ms/step - loss: 0.4458 - acc: 0.8826\n",
      "Epoch 17/100\n",
      "14/14 [==============================] - 0s 19ms/step - loss: 0.4427 - acc: 0.8826\n",
      "Epoch 18/100\n",
      "14/14 [==============================] - 0s 18ms/step - loss: 0.4451 - acc: 0.8709\n",
      "Epoch 19/100\n",
      "14/14 [==============================] - 0s 18ms/step - loss: 0.4436 - acc: 0.8826\n",
      "Epoch 20/100\n",
      "14/14 [==============================] - 0s 18ms/step - loss: 0.4381 - acc: 0.8803\n",
      "Epoch 21/100\n",
      "14/14 [==============================] - 0s 19ms/step - loss: 0.4343 - acc: 0.8920\n",
      "Epoch 22/100\n",
      "14/14 [==============================] - 0s 19ms/step - loss: 0.4331 - acc: 0.8897\n",
      "Epoch 23/100\n",
      "14/14 [==============================] - 0s 19ms/step - loss: 0.4310 - acc: 0.8967\n",
      "Epoch 24/100\n",
      "14/14 [==============================] - 0s 19ms/step - loss: 0.4296 - acc: 0.8991\n",
      "Epoch 25/100\n",
      "14/14 [==============================] - 0s 19ms/step - loss: 0.4287 - acc: 0.8967\n",
      "Epoch 26/100\n",
      "14/14 [==============================] - 0s 19ms/step - loss: 0.4270 - acc: 0.8944\n",
      "Epoch 27/100\n",
      "14/14 [==============================] - 0s 19ms/step - loss: 0.4257 - acc: 0.8991\n",
      "Epoch 28/100\n",
      "14/14 [==============================] - 0s 19ms/step - loss: 0.4256 - acc: 0.9061\n",
      "Epoch 29/100\n",
      "14/14 [==============================] - 0s 19ms/step - loss: 0.4244 - acc: 0.8991\n",
      "Epoch 30/100\n",
      "14/14 [==============================] - 0s 19ms/step - loss: 0.4229 - acc: 0.8991\n",
      "Epoch 31/100\n",
      "14/14 [==============================] - 0s 19ms/step - loss: 0.4242 - acc: 0.8920\n",
      "Epoch 32/100\n",
      "14/14 [==============================] - 0s 19ms/step - loss: 0.4226 - acc: 0.8967\n",
      "Epoch 33/100\n",
      "14/14 [==============================] - 0s 19ms/step - loss: 0.4211 - acc: 0.8944\n",
      "Epoch 34/100\n",
      "14/14 [==============================] - 0s 19ms/step - loss: 0.4199 - acc: 0.9014\n",
      "Epoch 35/100\n",
      "14/14 [==============================] - 0s 18ms/step - loss: 0.4201 - acc: 0.9085\n",
      "Epoch 36/100\n",
      "14/14 [==============================] - 0s 19ms/step - loss: 0.4187 - acc: 0.9061\n",
      "Epoch 37/100\n",
      "14/14 [==============================] - 0s 19ms/step - loss: 0.4196 - acc: 0.9038\n",
      "Epoch 38/100\n",
      "14/14 [==============================] - 0s 19ms/step - loss: 0.4190 - acc: 0.9014\n",
      "Epoch 39/100\n",
      "14/14 [==============================] - 0s 19ms/step - loss: 0.4207 - acc: 0.8967\n",
      "Epoch 40/100\n",
      "14/14 [==============================] - 0s 19ms/step - loss: 0.4148 - acc: 0.9108\n",
      "Epoch 41/100\n",
      "14/14 [==============================] - 0s 19ms/step - loss: 0.4137 - acc: 0.9108\n",
      "Epoch 42/100\n",
      "14/14 [==============================] - 0s 19ms/step - loss: 0.4146 - acc: 0.9061\n",
      "Epoch 43/100\n",
      "14/14 [==============================] - 0s 19ms/step - loss: 0.4148 - acc: 0.9108\n",
      "Epoch 44/100\n",
      "14/14 [==============================] - 0s 18ms/step - loss: 0.4128 - acc: 0.9014\n",
      "Epoch 45/100\n",
      "14/14 [==============================] - 0s 19ms/step - loss: 0.4102 - acc: 0.9108\n",
      "Epoch 46/100\n",
      "14/14 [==============================] - 0s 19ms/step - loss: 0.4120 - acc: 0.9108\n",
      "Epoch 47/100\n",
      "14/14 [==============================] - 0s 18ms/step - loss: 0.4117 - acc: 0.9131\n",
      "Epoch 48/100\n",
      "14/14 [==============================] - 0s 19ms/step - loss: 0.4093 - acc: 0.9108\n",
      "Epoch 49/100\n",
      "14/14 [==============================] - 0s 19ms/step - loss: 0.4097 - acc: 0.9108\n",
      "Epoch 50/100\n",
      "14/14 [==============================] - 0s 19ms/step - loss: 0.4103 - acc: 0.9155\n",
      "Epoch 51/100\n",
      "14/14 [==============================] - 0s 19ms/step - loss: 0.4075 - acc: 0.9155\n",
      "Epoch 52/100\n",
      "14/14 [==============================] - 0s 19ms/step - loss: 0.4067 - acc: 0.9131\n",
      "Epoch 53/100\n",
      "14/14 [==============================] - 0s 19ms/step - loss: 0.4067 - acc: 0.9131\n",
      "Epoch 54/100\n",
      "14/14 [==============================] - 0s 19ms/step - loss: 0.4074 - acc: 0.9155\n",
      "Epoch 55/100\n",
      "14/14 [==============================] - 0s 19ms/step - loss: 0.4078 - acc: 0.9155\n",
      "Epoch 56/100\n",
      "14/14 [==============================] - 0s 19ms/step - loss: 0.4050 - acc: 0.9178\n",
      "Epoch 57/100\n",
      "14/14 [==============================] - 0s 19ms/step - loss: 0.4078 - acc: 0.9155\n",
      "Epoch 58/100\n",
      "14/14 [==============================] - 0s 19ms/step - loss: 0.4054 - acc: 0.9085\n",
      "Epoch 59/100\n",
      "14/14 [==============================] - 0s 19ms/step - loss: 0.4083 - acc: 0.9131\n",
      "Epoch 60/100\n",
      "14/14 [==============================] - 0s 19ms/step - loss: 0.4064 - acc: 0.9108\n",
      "Epoch 61/100\n",
      "14/14 [==============================] - 0s 19ms/step - loss: 0.4022 - acc: 0.9178\n",
      "Epoch 62/100\n",
      "14/14 [==============================] - 0s 18ms/step - loss: 0.4025 - acc: 0.9202\n",
      "Epoch 63/100\n",
      "14/14 [==============================] - 0s 18ms/step - loss: 0.4028 - acc: 0.9108\n",
      "Epoch 64/100\n",
      "14/14 [==============================] - 0s 19ms/step - loss: 0.4012 - acc: 0.9178\n",
      "Epoch 65/100\n",
      "14/14 [==============================] - 0s 19ms/step - loss: 0.4026 - acc: 0.9108\n",
      "Epoch 66/100\n",
      "14/14 [==============================] - 0s 19ms/step - loss: 0.4001 - acc: 0.9178\n",
      "Epoch 67/100\n",
      "14/14 [==============================] - 0s 18ms/step - loss: 0.3997 - acc: 0.9202\n",
      "Epoch 68/100\n",
      "14/14 [==============================] - 0s 18ms/step - loss: 0.3997 - acc: 0.9178\n",
      "Epoch 69/100\n",
      "14/14 [==============================] - 0s 18ms/step - loss: 0.3984 - acc: 0.9202\n",
      "Epoch 70/100\n",
      "14/14 [==============================] - 0s 18ms/step - loss: 0.4006 - acc: 0.9178\n",
      "Epoch 71/100\n",
      "14/14 [==============================] - 0s 19ms/step - loss: 0.4006 - acc: 0.9225\n",
      "Epoch 72/100\n",
      "14/14 [==============================] - 0s 19ms/step - loss: 0.3986 - acc: 0.9249\n",
      "Epoch 73/100\n",
      "14/14 [==============================] - 0s 19ms/step - loss: 0.3971 - acc: 0.9249\n",
      "Epoch 74/100\n",
      "14/14 [==============================] - 0s 19ms/step - loss: 0.3960 - acc: 0.9272\n",
      "Epoch 75/100\n",
      "14/14 [==============================] - 0s 19ms/step - loss: 0.3966 - acc: 0.9249\n",
      "Epoch 76/100\n",
      "14/14 [==============================] - 0s 19ms/step - loss: 0.3973 - acc: 0.9225\n",
      "Epoch 77/100\n",
      "14/14 [==============================] - 0s 19ms/step - loss: 0.3957 - acc: 0.9249\n",
      "Epoch 78/100\n",
      "14/14 [==============================] - 0s 19ms/step - loss: 0.3971 - acc: 0.9225\n",
      "Epoch 79/100\n",
      "14/14 [==============================] - 0s 19ms/step - loss: 0.3974 - acc: 0.9272\n",
      "Epoch 80/100\n",
      "14/14 [==============================] - 0s 19ms/step - loss: 0.3947 - acc: 0.9272\n",
      "Epoch 81/100\n",
      "14/14 [==============================] - 0s 18ms/step - loss: 0.3951 - acc: 0.9319\n",
      "Epoch 82/100\n",
      "14/14 [==============================] - 0s 19ms/step - loss: 0.3935 - acc: 0.9272\n",
      "Epoch 83/100\n",
      "14/14 [==============================] - 0s 19ms/step - loss: 0.3964 - acc: 0.9225\n",
      "Epoch 84/100\n",
      "14/14 [==============================] - 0s 19ms/step - loss: 0.3960 - acc: 0.9155\n",
      "Epoch 85/100\n",
      "14/14 [==============================] - 0s 19ms/step - loss: 0.3925 - acc: 0.9296\n",
      "Epoch 86/100\n",
      "14/14 [==============================] - 0s 19ms/step - loss: 0.3919 - acc: 0.9296\n",
      "Epoch 87/100\n",
      "14/14 [==============================] - 0s 19ms/step - loss: 0.3921 - acc: 0.9296\n",
      "Epoch 88/100\n",
      "14/14 [==============================] - 0s 19ms/step - loss: 0.3918 - acc: 0.9178\n",
      "Epoch 89/100\n",
      "14/14 [==============================] - 0s 20ms/step - loss: 0.3891 - acc: 0.9296\n",
      "Epoch 90/100\n",
      "14/14 [==============================] - 0s 18ms/step - loss: 0.3878 - acc: 0.9366\n",
      "Epoch 91/100\n",
      "14/14 [==============================] - 0s 19ms/step - loss: 0.3864 - acc: 0.9366\n",
      "Epoch 92/100\n",
      "14/14 [==============================] - 0s 19ms/step - loss: 0.3937 - acc: 0.9249\n",
      "Epoch 93/100\n",
      "14/14 [==============================] - 0s 19ms/step - loss: 0.3869 - acc: 0.9413\n",
      "Epoch 94/100\n",
      "14/14 [==============================] - 0s 19ms/step - loss: 0.3840 - acc: 0.9460\n",
      "Epoch 95/100\n",
      "14/14 [==============================] - 0s 19ms/step - loss: 0.3862 - acc: 0.9366\n",
      "Epoch 96/100\n",
      "14/14 [==============================] - 0s 19ms/step - loss: 0.3847 - acc: 0.9413\n",
      "Epoch 97/100\n",
      "14/14 [==============================] - 0s 19ms/step - loss: 0.3847 - acc: 0.9413\n",
      "Epoch 98/100\n",
      "14/14 [==============================] - 0s 19ms/step - loss: 0.3840 - acc: 0.9343\n",
      "Epoch 99/100\n",
      "14/14 [==============================] - 0s 18ms/step - loss: 0.3826 - acc: 0.9437\n",
      "Epoch 100/100\n",
      "14/14 [==============================] - 0s 18ms/step - loss: 0.3828 - acc: 0.9413\n"
     ]
    },
    {
     "data": {
      "text/plain": [
       "<tensorflow.python.keras.callbacks.History at 0x7f95384b0e50>"
      ]
     },
     "execution_count": 26,
     "metadata": {},
     "output_type": "execute_result"
    }
   ],
   "source": [
    "model.compile(\n",
    "    optimizer=\"adam\",\n",
    "    loss = tf.keras.losses.SparseCategoricalCrossentropy(from_logits=True),\n",
    "    metrics = [\"acc\"]\n",
    ")\n",
    "model.fit(X_train_scaled,y_train,epochs=100)"
   ]
  },
  {
   "cell_type": "code",
   "execution_count": 27,
   "metadata": {},
   "outputs": [],
   "source": [
    "# model.evaluate(X_test_scaled, y_test)"
   ]
  },
  {
   "cell_type": "code",
   "execution_count": 28,
   "metadata": {},
   "outputs": [
    {
     "name": "stdout",
     "output_type": "stream",
     "text": [
      "WARNING:tensorflow:From /tmp/ipykernel_11807/3947410180.py:1: Sequential.predict_classes (from tensorflow.python.keras.engine.sequential) is deprecated and will be removed after 2021-01-01.\n",
      "Instructions for updating:\n",
      "Please use instead:* `np.argmax(model.predict(x), axis=-1)`,   if your model does multi-class classification   (e.g. if it uses a `softmax` last-layer activation).* `(model.predict(x) > 0.5).astype(\"int32\")`,   if your model does binary classification   (e.g. if it uses a `sigmoid` last-layer activation).\n"
     ]
    },
    {
     "name": "stderr",
     "output_type": "stream",
     "text": [
      "WARNING:tensorflow:From /tmp/ipykernel_11807/3947410180.py:1: Sequential.predict_classes (from tensorflow.python.keras.engine.sequential) is deprecated and will be removed after 2021-01-01.\n",
      "Instructions for updating:\n",
      "Please use instead:* `np.argmax(model.predict(x), axis=-1)`,   if your model does multi-class classification   (e.g. if it uses a `softmax` last-layer activation).* `(model.predict(x) > 0.5).astype(\"int32\")`,   if your model does binary classification   (e.g. if it uses a `sigmoid` last-layer activation).\n"
     ]
    }
   ],
   "source": [
    "predicted_class = model.predict_classes(X_test_scaled)\n",
    "pred_prob = model.predict(X_test_scaled)\n",
    "pred_prob = np.around(pred_prob, decimals=3)"
   ]
  },
  {
   "cell_type": "code",
   "execution_count": 29,
   "metadata": {},
   "outputs": [
    {
     "data": {
      "image/png": "[encoded data removed]",
      "text/plain": [
       "<Figure size 640x480 with 2 Axes>"
      ]
     },
     "metadata": {},
     "output_type": "display_data"
    }
   ],
   "source": [
    "cm = confusion_matrix(y_test, predicted_class, labels=[0,1])\n",
    "disp = ConfusionMatrixDisplay(confusion_matrix=cm,\n",
    "                              display_labels=[\"Benign\",\"Malignant\"])\n",
    "disp.plot()\n",
    "plt.title(\"Confusion Matrix By Transfer Learning\")\n",
    "plt.show()"
   ]
  },
  {
   "cell_type": "code",
   "execution_count": 30,
   "metadata": {},
   "outputs": [
    {
     "name": "stdout",
     "output_type": "stream",
     "text": [
      "Transfer Learning with Image Classification\n",
      "Accuracy:0.902,Precision:0.895,Recall:0.895,F1-score:0.895\n"
     ]
    }
   ],
   "source": [
    "predicted_class = model.predict_classes(X_test_scaled)\n",
    "precision = precision_score(y_test, predicted_class, average='macro')\n",
    "recall = recall_score(y_test, predicted_class, average='macro')\n",
    "f_score = 2*precision*recall/(precision+recall)\n",
    "accuracy = accuracy_score(y_test,predicted_class)\n",
    "print(\"Transfer Learning with Image Classification\")\n",
    "print(f\"Accuracy:{round(accuracy,3)},Precision:{round(precision,3)},Recall:{round(recall,3)},F1-score:{round(f_score,3)}\")"
   ]
  },
  {
   "cell_type": "code",
   "execution_count": 31,
   "metadata": {},
   "outputs": [
    {
     "name": "stderr",
     "output_type": "stream",
     "text": [
      "/home/mohan/anaconda3/envs/keras/lib/python3.7/site-packages/sklearn/linear_model/_logistic.py:818: ConvergenceWarning: lbfgs failed to converge (status=1):\n",
      "STOP: TOTAL NO. of ITERATIONS REACHED LIMIT.\n",
      "\n",
      "Increase the number of iterations (max_iter) or scale the data as shown in:\n",
      "    https://scikit-learn.org/stable/modules/preprocessing.html\n",
      "Please also refer to the documentation for alternative solver options:\n",
      "    https://scikit-learn.org/stable/modules/linear_model.html#logistic-regression\n",
      "  extra_warning_msg=_LOGISTIC_SOLVER_CONVERGENCE_MSG,\n"
     ]
    }
   ],
   "source": [
    "# Result from the baseline logistic regression method\n",
    "X,y = data_create()\n",
    "X_train, X_test, y_train, y_test = train_test_split(X,y,test_size=0.25,random_state=0)\n",
    "accuracy,precision, recall, f_score,predicted_class = baseline_method(X_train, X_test, y_train, y_test)\n"
   ]
  },
  {
   "cell_type": "code",
   "execution_count": 32,
   "metadata": {},
   "outputs": [
    {
     "data": {
      "image/png": "[encoded data removed]",
      "text/plain": [
       "<Figure size 640x480 with 2 Axes>"
      ]
     },
     "metadata": {},
     "output_type": "display_data"
    }
   ],
   "source": [
    "cm = confusion_matrix(y_test, predicted_class, labels=[0,1])\n",
    "disp = ConfusionMatrixDisplay(confusion_matrix=cm,\n",
    "                              display_labels=[\"Benign\",\"Malignant\"])\n",
    "disp.plot()\n",
    "plt.title(\"Confusion Matrix By Logistic Regression\")\n",
    "plt.show()"
   ]
  },
  {
   "cell_type": "code",
   "execution_count": 33,
   "metadata": {},
   "outputs": [
    {
     "name": "stdout",
     "output_type": "stream",
     "text": [
      "Baseline Logistic Regression Classifier\n",
      "Accuracy:0.944,Precision:0.936,Recall:0.948,F1-score:0.942\n"
     ]
    }
   ],
   "source": [
    "print(\"Baseline Logistic Regression Classifier\")\n",
    "print(f\"Accuracy:{round(accuracy,3)},Precision:{round(precision,3)},Recall:{round(recall,3)},F1-score:{round(f_score,3)}\")"
   ]
  }
 ],
 "metadata": {
  "kernelspec": {
   "display_name": "keras",
   "language": "python",
   "name": "keras"
  },
  "language_info": {
   "codemirror_mode": {
    "name": "ipython",
    "version": 3
   },
   "file_extension": ".py",
   "mimetype": "text/x-python",
   "name": "python",
   "nbconvert_exporter": "python",
   "pygments_lexer": "ipython3",
   "version": "3.7.13"
  }
 },
 "nbformat": 4,
 "nbformat_minor": 2
}
